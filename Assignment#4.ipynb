{
 "cells": [
  {
   "cell_type": "code",
   "execution_count": 1,
   "metadata": {},
   "outputs": [
    {
     "name": "stdout",
     "output_type": "stream",
     "text": [
      "{'first_name': 'sadia', 'last_name': 'parveen', 'age': '25', 'city': 'Karachi', 'qualification': 'high acadmeic level'}\n",
      "{'first_name': 'sadia', 'last_name': 'parveen', 'age': '25', 'city': 'Karachi'}\n"
     ]
    }
   ],
   "source": [
    "#Question:01\n",
    "info = {\n",
    "    \n",
    "    \"first_name\" : \"sadia\",\n",
    "    \"last_name\"  : \"parveen\",\n",
    "    \"age\"        : \"25\",\n",
    "    \"city\"       : \"Karachi\"\n",
    "}\n",
    "\n",
    "info [\"qualification\"] = \"high acadmeic level\"\n",
    "\n",
    "print (info)\n",
    "\n",
    "del info[\"qualification\"]\n",
    "\n",
    "print (info)\n"
   ]
  },
  {
   "cell_type": "code",
   "execution_count": 2,
   "metadata": {},
   "outputs": [
    {
     "name": "stdout",
     "output_type": "stream",
     "text": [
      " City name :  karachi {'country': 'Pakistan', 'population': 45, 'fact': 'city of lights'}\n",
      " City name :  Lahore {'country': 'Pakistan', 'population': 12, 'fact': 'biggest city'}\n",
      " City name :  Multan {'country': 'Palistan', 'population': 6, 'fact': 'old city'}\n"
     ]
    }
   ],
   "source": [
    "#Question:02\n",
    "\n",
    "cities = {\n",
    "    \"karachi\" : {\n",
    "        \"country\" : \"Pakistan\",\n",
    "        \"population\" : 45 , \n",
    "        \"fact\" : \"city of lights\"\n",
    "    },\n",
    "      \n",
    "     \"Lahore\" : {\n",
    "         \"country\" : \"Pakistan\",\n",
    "         \"population\" : 12,\n",
    "         \"fact\" : \"biggest city\"\n",
    "         \n",
    "     },\n",
    "         \"Multan\" : {\n",
    "             \"country\" : \"Palistan\",\n",
    "             \"population\" : 6, \n",
    "             \"fact\"   : \"old city\"\n",
    "     }\n",
    "    \n",
    "    \n",
    "    \n",
    "}\n",
    "for key, v in cities.items():\n",
    "    print (\" City name : \" , key , v)\n"
   ]
  },
  {
   "cell_type": "code",
   "execution_count": 3,
   "metadata": {},
   "outputs": [
    {
     "name": "stdout",
     "output_type": "stream",
     "text": [
      "How old are you?\n",
      "Enter 'quit' when you are finished. 2\n",
      "ticket is free\n",
      "How old are you?\n",
      "Enter 'quit' when you are finished. quit\n"
     ]
    }
   ],
   "source": [
    "#Question:03\n",
    "a = \"How old are you?\"\n",
    "a += \"\\nEnter 'quit' when you are finished. \"\n",
    "\n",
    "while True:\n",
    "    age = input(a)\n",
    "    if age == 'quit':\n",
    "        break\n",
    "    age = int(age)\n",
    "\n",
    "    if age < 3:\n",
    "        print(\"ticket is free\")\n",
    "    elif age < 13:\n",
    "        print(\"ticket is $10\")\n",
    "    else:\n",
    "        print(\"ticket is $15\")"
   ]
  },
  {
   "cell_type": "code",
   "execution_count": 4,
   "metadata": {},
   "outputs": [
    {
     "name": "stdout",
     "output_type": "stream",
     "text": [
      "What is your favorite book ? Quran\n",
      "Quran  is one of my favorite book\n"
     ]
    }
   ],
   "source": [
    "#Question:04\n",
    "def favorite_book(title):\n",
    "    print(title,\" is one of my favorite book\")\n",
    "\n",
    "book=input(\"What is your favorite book ? \")\n",
    "favorite_book(book)\n"
   ]
  },
  {
   "cell_type": "code",
   "execution_count": null,
   "metadata": {},
   "outputs": [
    {
     "name": "stdout",
     "output_type": "stream",
     "text": [
      "I am thinking of a number between 1 and 30\n",
      "Take a guess.\n",
      "3\n",
      "Your guess is too low.\n",
      "Take a guess.\n",
      "25\n",
      "Your guess is too high.\n",
      "Take a guess.\n"
     ]
    }
   ],
   "source": [
    "#Question:05\n",
    "import random\n",
    "\n",
    "guessesTaken = 0\n",
    "\n",
    "\n",
    "number = random.randint(1, 20)\n",
    "\n",
    "print( \"I am thinking of a number between 1 and 30\")\n",
    "while guessesTaken < 6:\n",
    "\n",
    "    print('Take a guess.') # There are four spaces in front of print.\n",
    "    guess = int(input())\n",
    "    guessesTaken = guessesTaken + 1\n",
    "    if guess < number:\n",
    "        print('Your guess is too low.') # There are eight spaces in front of print.\n",
    "    if guess > number:\n",
    "        print('Your guess is too high.')\n",
    "    if guess == number:\n",
    "        break\n",
    "if guess == number:\n",
    "    guessesTaken = str(guessesTaken)\n",
    "    print('Good job, ' + myName + '! You guessed my number in ' + guessesTaken + ' guesses!')\n",
    "if guess != number:\n",
    "    number = str(number)\n",
    "    print('Nope. The number I was thinking of was ' + number)"
   ]
  },
  {
   "cell_type": "code",
   "execution_count": null,
   "metadata": {},
   "outputs": [],
   "source": []
  }
 ],
 "metadata": {
  "kernelspec": {
   "display_name": "Python 3",
   "language": "python",
   "name": "python3"
  },
  "language_info": {
   "codemirror_mode": {
    "name": "ipython",
    "version": 3
   },
   "file_extension": ".py",
   "mimetype": "text/x-python",
   "name": "python",
   "nbconvert_exporter": "python",
   "pygments_lexer": "ipython3",
   "version": "3.7.4"
  }
 },
 "nbformat": 4,
 "nbformat_minor": 2
}
