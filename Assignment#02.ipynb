{
 "cells": [
  {
   "cell_type": "code",
   "execution_count": 1,
   "metadata": {},
   "outputs": [
    {
     "name": "stdout",
     "output_type": "stream",
     "text": [
      "Enter marks of Maths = 56\n",
      "Enter marks of English = 78\n",
      "Enter marks of Urdu = 98\n",
      "Enter marks of Islamiat = 80\n",
      "Enter marks of Sindhi = 76\n",
      "Total obtained marks is = 388 Out of 500\n",
      "Your percentage is = 77.60000000000001 %\n",
      "your Grade is = A\n"
     ]
    }
   ],
   "source": [
    "#Question:01\n",
    "sub1=int(input (\"Enter marks of Maths = \"))\n",
    "sub2=int(input (\"Enter marks of English = \"))\n",
    "sub3=int(input (\"Enter marks of Urdu = \"))\n",
    "sub4=int(input (\"Enter marks of Islamiat = \"))\n",
    "sub5=int(input (\"Enter marks of Sindhi = \"))\n",
    "\n",
    "Total = sub1+sub2+sub3+sub4+sub5\n",
    "print (\"Total obtained marks is =\" , Total , \"Out of 500\")\n",
    "#print (Total)\n",
    "per = (Total/500)*100\n",
    "print (\"Your percentage is =\", per , \"%\")\n",
    "if per >= 80 and per<=100:\n",
    "    print(\"your Grade is = A+\")\n",
    "elif per >= 70 and per<=80:\n",
    "    print(\"your Grade is = A\")\n",
    "elif per >= 60 and per<=70 :\n",
    "    print(\"your Grade is = B\")\n",
    "elif per >= 50 and per<=60:\n",
    "    print(\"your Grade is = c\")\n",
    "else :\n",
    "    print (\"Fail\")"
   ]
  },
  {
   "cell_type": "code",
   "execution_count": 3,
   "metadata": {},
   "outputs": [
    {
     "name": "stdout",
     "output_type": "stream",
     "text": [
      "Enter a number =7\n",
      "odd\n"
     ]
    }
   ],
   "source": [
    "#Question:02\n",
    "numb = int (input(\"Enter a number =\"))\n",
    "a = numb%2\n",
    "\n",
    "if (a == 0):\n",
    "    print (\"Even\")\n",
    "else :\n",
    "    print (\"odd\")\n"
   ]
  },
  {
   "cell_type": "code",
   "execution_count": 5,
   "metadata": {},
   "outputs": [
    {
     "name": "stdout",
     "output_type": "stream",
     "text": [
      "4\n"
     ]
    }
   ],
   "source": [
    "#Question:03\n",
    "a = [\"sadia\",89,\"look\",\"876\"]\n",
    "print (len(a))\n"
   ]
  },
  {
   "cell_type": "code",
   "execution_count": 6,
   "metadata": {},
   "outputs": [
    {
     "name": "stdout",
     "output_type": "stream",
     "text": [
      "11\n"
     ]
    }
   ],
   "source": [
    "#Question:04\n",
    "a = [1,6,1,1,1,1]\n",
    "total=0\n",
    "for y in a:\n",
    "    total += y\n",
    "print (total)\n"
   ]
  },
  {
   "cell_type": "code",
   "execution_count": 7,
   "metadata": {},
   "outputs": [
    {
     "name": "stdout",
     "output_type": "stream",
     "text": [
      "98\n"
     ]
    }
   ],
   "source": [
    "#Question:05\n",
    "a=[98,87,54,3,9,65]\n",
    "print (max(a))\n"
   ]
  },
  {
   "cell_type": "code",
   "execution_count": 9,
   "metadata": {},
   "outputs": [
    {
     "name": "stdout",
     "output_type": "stream",
     "text": [
      "1\n",
      "1\n",
      "2\n",
      "3\n"
     ]
    }
   ],
   "source": [
    "#Question:06\n",
    "a = [1, 1, 2, 3, 5, 8, 13, 21, 34, 55, 89]\n",
    "\n",
    "for i in a:\n",
    " if i < 5 :\n",
    "    print (i)\n"
   ]
  },
  {
   "cell_type": "code",
   "execution_count": null,
   "metadata": {},
   "outputs": [],
   "source": []
  }
 ],
 "metadata": {
  "kernelspec": {
   "display_name": "Python 3",
   "language": "python",
   "name": "python3"
  },
  "language_info": {
   "codemirror_mode": {
    "name": "ipython",
    "version": 3
   },
   "file_extension": ".py",
   "mimetype": "text/x-python",
   "name": "python",
   "nbconvert_exporter": "python",
   "pygments_lexer": "ipython3",
   "version": "3.7.4"
  }
 },
 "nbformat": 4,
 "nbformat_minor": 2
}
