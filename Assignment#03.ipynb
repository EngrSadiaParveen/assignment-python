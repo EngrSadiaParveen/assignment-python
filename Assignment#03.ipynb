{
 "cells": [
  {
   "cell_type": "code",
   "execution_count": 1,
   "metadata": {},
   "outputs": [
    {
     "name": "stdout",
     "output_type": "stream",
     "text": [
      "Enter first value5.5\n",
      "Enter second value2.3\n",
      "Enter operator+\n",
      "7.8\n"
     ]
    }
   ],
   "source": [
    "# Question : 01\n",
    "\n",
    "val_1 = float(input(\"Enter first value\"))\n",
    "val_2 = float(input(\"Enter second value\"))\n",
    "op = input(\"Enter operator\")\n",
    "\n",
    "if op == '+' :\n",
    "    val = val_1 + val_2\n",
    "    print (val)\n",
    "elif op == '-' :\n",
    "    val = val_1 - val_2\n",
    "elif op == '*' :\n",
    "    val = val_1 * val_2\n",
    "    print (val)\n",
    "elif op == '/' :\n",
    "    val = val_1 / val_2\n",
    "    print (val)\n",
    "elif op == '**' :\n",
    "    val = val_1 ** val_2\n",
    "    print (val)\n",
    "    \n",
    "else: \n",
    "    print ('Enter correct operator')"
   ]
  },
  {
   "cell_type": "code",
   "execution_count": 3,
   "metadata": {},
   "outputs": [
    {
     "name": "stdout",
     "output_type": "stream",
     "text": [
      "It is a numeric value\n",
      "It is a numeric value\n",
      "It is a string value\n",
      "It is a string value\n",
      "It is a numeric value\n",
      "It is a numeric value\n",
      "It is a numeric value\n"
     ]
    }
   ],
   "source": [
    "# Question : 02\n",
    "\n",
    "list = [4,5.75,'work','ali',6.5,3,2]\n",
    "for num in list :\n",
    "    if type(num)==int or type(num)==float:\n",
    "        print (\"It is a numeric value\")\n",
    "    else :\n",
    "        print (\"It is a string value\")"
   ]
  },
  {
   "cell_type": "code",
   "execution_count": 4,
   "metadata": {},
   "outputs": [
    {
     "name": "stdout",
     "output_type": "stream",
     "text": [
      "{'first_name': 'Sadia', 'last_name': 'Parveen', 'country': 'Pakistan'}\n"
     ]
    }
   ],
   "source": [
    "# Question : 03\n",
    "\n",
    "info = {\"first_name\" : 'Sadia',\n",
    "        \"last_name\" : 'Parveen'\n",
    "       }\n",
    "info [\"country\"] = 'Pakistan'\n",
    "\n",
    "print (info)"
   ]
  },
  {
   "cell_type": "code",
   "execution_count": 5,
   "metadata": {},
   "outputs": [
    {
     "name": "stdout",
     "output_type": "stream",
     "text": [
      "11\n"
     ]
    }
   ],
   "source": [
    "# Question : 04\n",
    "\n",
    "data = { \"a\" : 2 ,\n",
    "        \"b\"  : 4 ,\n",
    "        \"c\"  : 5\n",
    "       }\n",
    "sum = 0\n",
    "for output in data.values():\n",
    "    sum = sum + output\n",
    "print (sum)"
   ]
  },
  {
   "cell_type": "code",
   "execution_count": 6,
   "metadata": {},
   "outputs": [
    {
     "name": "stdout",
     "output_type": "stream",
     "text": [
      "Repeted item in list are [1, 2, 5]\n"
     ]
    }
   ],
   "source": [
    "# Question : 05\n",
    "\n",
    "arr = [1,2,3,2,1,5,6,5,5,5]\n",
    "list_range = len(arr)\n",
    "repeated = []\n",
    "for i in range (list_range):\n",
    "    a = i + 1\n",
    "    for b in range(a, list_range):\n",
    "        if arr[i] == arr[b] and arr[i] not in repeated :\n",
    "            repeated.append(arr[i])\n",
    "print(\"Repeted item in list are\" , repeated)"
   ]
  },
  {
   "cell_type": "code",
   "execution_count": 9,
   "metadata": {},
   "outputs": [
    {
     "name": "stdout",
     "output_type": "stream",
     "text": [
      "Enter Key Name To Check If Exist Or Not 89\n",
      "Given Key does not exist\n"
     ]
    }
   ],
   "source": [
    "# Question : 06\n",
    "\n",
    "dic = {\n",
    "    \"name\" : \"sadia\",\n",
    "    \"num\" : 15,\n",
    "    \"str\":\"december\",\n",
    "    \"alphabet\":\"A\",\n",
    "    \"num2\" : 17,\n",
    "    \"num3\":21,\n",
    "}\n",
    "check_key = input(\"Enter Key Name To Check If Exist Or Not \")\n",
    "flag = False\n",
    "for i in dic.keys():\n",
    "    if i == check_key:\n",
    "        flag = True\n",
    "        break\n",
    "\n",
    "if flag == True :\n",
    "    print(\"Given Key exist\")\n",
    "else:\n",
    "    print(\"Given Key does not exist\")"
   ]
  },
  {
   "cell_type": "code",
   "execution_count": null,
   "metadata": {},
   "outputs": [],
   "source": []
  },
  {
   "cell_type": "code",
   "execution_count": null,
   "metadata": {},
   "outputs": [],
   "source": []
  }
 ],
 "metadata": {
  "kernelspec": {
   "display_name": "Python 3",
   "language": "python",
   "name": "python3"
  },
  "language_info": {
   "codemirror_mode": {
    "name": "ipython",
    "version": 3
   },
   "file_extension": ".py",
   "mimetype": "text/x-python",
   "name": "python",
   "nbconvert_exporter": "python",
   "pygments_lexer": "ipython3",
   "version": "3.7.4"
  }
 },
 "nbformat": 4,
 "nbformat_minor": 2
}
