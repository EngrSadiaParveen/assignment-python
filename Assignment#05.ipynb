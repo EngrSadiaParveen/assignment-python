{
 "cells": [
  {
   "cell_type": "code",
   "execution_count": 10,
   "metadata": {},
   "outputs": [
    {
     "name": "stdout",
     "output_type": "stream",
     "text": [
      "2\n",
      "4\n",
      "6\n"
     ]
    }
   ],
   "source": [
    "# Question: 03\n",
    "list = [1, 2, 3, 4, 5, 6, 7] \n",
    "  \n",
    "for num in list: \n",
    "      # checking condition \n",
    "    if num % 2 == 0: \n",
    "        print(num) "
   ]
  },
  {
   "cell_type": "code",
   "execution_count": 24,
   "metadata": {},
   "outputs": [
    {
     "name": "stdout",
     "output_type": "stream",
     "text": [
      "String :  Sadia Parveen\n",
      "No. of Upper case characters :  2\n",
      "No. of Lower case Characters :  10\n"
     ]
    }
   ],
   "source": [
    "# Question: 02\n",
    "def string(s):\n",
    "    data={\"Upper-case\":0, \"Lower-case\":0}\n",
    "    for check in s:\n",
    "        if check.isupper():\n",
    "            data[\"Upper-case\"]+=1\n",
    "        elif check.islower():\n",
    "            data[\"Lower-case\"]+=1\n",
    "        else:\n",
    "            pass\n",
    "    print (\"String : \", s)\n",
    "    print (\"No. of Upper case characters : \", data[\"Upper-case\"])\n",
    "    print (\"No. of Lower case Characters : \", data[\"Lower-case\"])\n",
    "\n",
    "string(\"Sadia Parveen\")"
   ]
  },
  {
   "cell_type": "code",
   "execution_count": 30,
   "metadata": {},
   "outputs": [
    {
     "name": "stdout",
     "output_type": "stream",
     "text": [
      "Input a number to compute the factiorial : 5\n",
      "120\n"
     ]
    }
   ],
   "source": [
    "# Question: 01\n",
    "\n",
    "def factorial(numb):\n",
    "    if numb == 0:\n",
    "        return 1\n",
    "    else:\n",
    "        return numb * factorial(numb-1)\n",
    "numb=int(input(\"Input a number to compute the factiorial : \"))\n",
    "print(factorial(numb))"
   ]
  },
  {
   "cell_type": "code",
   "execution_count": 45,
   "metadata": {},
   "outputs": [
    {
     "name": "stdout",
     "output_type": "stream",
     "text": [
      "True\n"
     ]
    }
   ],
   "source": [
    "# Question: 04\n",
    "def palindrome(string):\n",
    "    left = 0\n",
    "    right = len(string) - 1\n",
    "\n",
    "    while right >= left:\n",
    "        if not string[left] == string[right]:\n",
    "            return False\n",
    "            left += 1\n",
    "            right_pos -= 1\n",
    "        return True\n",
    "print(isPalindrome('level'))  "
   ]
  },
  {
   "cell_type": "code",
   "execution_count": 50,
   "metadata": {},
   "outputs": [
    {
     "name": "stdout",
     "output_type": "stream",
     "text": [
      "False\n"
     ]
    }
   ],
   "source": [
    "# Question: 05\n",
    "def prime(numb):\n",
    "    if (numb==1):\n",
    "        return False\n",
    "    elif (numb==2):\n",
    "        return True;\n",
    "    else:\n",
    "        for x in range(2,numb):\n",
    "            if(numb % x==0):\n",
    "                return False\n",
    "        return True             \n",
    "print(test_prime(4))"
   ]
  },
  {
   "cell_type": "code",
   "execution_count": 52,
   "metadata": {},
   "outputs": [
    {
     "name": "stdout",
     "output_type": "stream",
     "text": [
      "shopping list :\n",
      "tea\n",
      "milk\n",
      "sugar\n",
      "butter\n"
     ]
    }
   ],
   "source": [
    "# Question: 06\n",
    "def shopping(*parameter):\n",
    "    print (\"shopping list :\")\n",
    "    for param in parameter:\n",
    "        print (param)\n",
    "shopping(\"tea\",\"milk\",\"sugar\",\"butter\")"
   ]
  },
  {
   "cell_type": "code",
   "execution_count": null,
   "metadata": {},
   "outputs": [],
   "source": []
  }
 ],
 "metadata": {
  "kernelspec": {
   "display_name": "Python 3",
   "language": "python",
   "name": "python3"
  },
  "language_info": {
   "codemirror_mode": {
    "name": "ipython",
    "version": 3
   },
   "file_extension": ".py",
   "mimetype": "text/x-python",
   "name": "python",
   "nbconvert_exporter": "python",
   "pygments_lexer": "ipython3",
   "version": "3.7.4"
  }
 },
 "nbformat": 4,
 "nbformat_minor": 2
}
